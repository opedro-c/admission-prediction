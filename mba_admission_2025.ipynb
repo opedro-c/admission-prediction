{
 "cells": [
  {
   "metadata": {},
   "cell_type": "markdown",
   "source": [
    "# About Dataset\n",
    "\n",
    "## Data Source\n",
    "\n",
    "Synthetic data generated from the Wharton Class of 2025's statistics.\n",
    "\n",
    "## Metadata\n",
    "\n",
    "- **application_id**: Unique identifier for each application\n",
    "- **gender**: Applicant's gender (Male, Female)\n",
    "- **international**: International student (TRUE/FALSE)\n",
    "- **gpa**: Grade Point Average of the applicant (on 4.0 scale)\n",
    "- **major**: Undergraduate major (Business, STEM, Humanities)\n",
    "- **race**: Racial background of the applicant (e.g., White, Black, Asian, Hispanic, Other / null: international student)\n",
    "- **gmat**: GMAT score of the applicant (800 points)\n",
    "- **work_exp**: Number of years of work experience (Year)\n",
    "- **work_industry**: Industry of the applicant's previous work experience (e.g., Consulting, Finance, Technology, etc.)\n",
    "- **admission**: Admission status (Admit, Waitlist, Null: Deny)"
   ],
   "id": "ba4cceabafe85cf8"
  },
  {
   "metadata": {},
   "cell_type": "markdown",
   "source": "# EDA",
   "id": "c6edeff4"
  },
  {
   "metadata": {},
   "cell_type": "markdown",
   "source": "## General Analysis with Ydata Profiling",
   "id": "227604d82724993d"
  },
  {
   "metadata": {
    "ExecuteTime": {
     "end_time": "2025-05-11T19:47:01.284440Z",
     "start_time": "2025-05-11T19:47:01.282271Z"
    }
   },
   "cell_type": "code",
   "source": [
    "from ydata_profiling import ProfileReport\n",
    "import pandas as pd\n",
    "from sklearn.metrics import mutual_info_score"
   ],
   "id": "55653d45",
   "outputs": [],
   "execution_count": 62
  },
  {
   "metadata": {
    "ExecuteTime": {
     "end_time": "2025-05-11T19:47:01.303037Z",
     "start_time": "2025-05-11T19:47:01.296637Z"
    }
   },
   "cell_type": "code",
   "source": [
    "df = pd.read_csv('dataset/MBA.csv')\n",
    "# profile = ProfileReport(df, title=\"Pandas Profiling Report\", explorative=True)\n",
    "# profile.to_file('report.html')"
   ],
   "id": "10d33789",
   "outputs": [],
   "execution_count": 63
  },
  {
   "metadata": {},
   "cell_type": "markdown",
   "source": "## Feature Importance",
   "id": "e196351ad9a47df6"
  },
  {
   "metadata": {},
   "cell_type": "markdown",
   "source": "For training purpose, let's replace the Waitlist value by Admit change the admission column to a binary format.",
   "id": "66d46d5307dfa52e"
  },
  {
   "metadata": {
    "ExecuteTime": {
     "end_time": "2025-05-11T19:47:01.319385Z",
     "start_time": "2025-05-11T19:47:01.316222Z"
    }
   },
   "cell_type": "code",
   "source": "df.fillna(value={'race':  \"Unknown\"}, inplace=True)",
   "id": "3abe1b11ae73044e",
   "outputs": [],
   "execution_count": 64
  },
  {
   "metadata": {
    "ExecuteTime": {
     "end_time": "2025-05-11T19:47:01.337236Z",
     "start_time": "2025-05-11T19:47:01.333317Z"
    }
   },
   "cell_type": "code",
   "source": [
    "categorical = ['gender', 'international', 'major', 'race', 'work_industry']\n",
    "numerical = ['gpa', 'gmat', 'work_exp']\n",
    "df.loc[df['admission'] == 'Waitlist', 'admission'] = 'Admit'\n",
    "df['admission'] = (df['admission'] == 'Admit').astype(int)\n",
    "overall_admission = df.admission.mean()\n",
    "overall_admission"
   ],
   "id": "7fce49141a3c5ee4",
   "outputs": [
    {
     "data": {
      "text/plain": [
       "np.float64(0.16144656118824668)"
      ]
     },
     "execution_count": 65,
     "metadata": {},
     "output_type": "execute_result"
    }
   ],
   "execution_count": 65
  },
  {
   "metadata": {},
   "cell_type": "markdown",
   "source": "Now, let's evaluate how each categorical feature affects the likelihood of admission.",
   "id": "342edb2a4ce12952"
  },
  {
   "metadata": {
    "ExecuteTime": {
     "end_time": "2025-05-11T19:47:01.379930Z",
     "start_time": "2025-05-11T19:47:01.360392Z"
    }
   },
   "cell_type": "code",
   "source": [
    "for category in categorical:\n",
    "    data_category = df.groupby(category).admission.agg(mean='mean', count='count')\n",
    "    # difference: represents how much the group's admission rate differs from the overall average admission rate (overall_admission).\n",
    "    data_category['difference'] = data_category['mean'] - overall_admission\n",
    "    # risk_ratio: indicates how much more or less likely a group is to be admitted compared to the overall average.\n",
    "    data_category['risk_ratio'] = data_category['mean'] / overall_admission\n",
    "    display(data_category)\n",
    "    print()"
   ],
   "id": "82448fed0c3dc915",
   "outputs": [
    {
     "data": {
      "text/plain": [
       "            mean  count  difference  risk_ratio\n",
       "gender                                         \n",
       "Female  0.222124   2251    0.060677    1.375833\n",
       "Male    0.126807   3943   -0.034640    0.785443"
      ],
      "text/html": [
       "<div>\n",
       "<style scoped>\n",
       "    .dataframe tbody tr th:only-of-type {\n",
       "        vertical-align: middle;\n",
       "    }\n",
       "\n",
       "    .dataframe tbody tr th {\n",
       "        vertical-align: top;\n",
       "    }\n",
       "\n",
       "    .dataframe thead th {\n",
       "        text-align: right;\n",
       "    }\n",
       "</style>\n",
       "<table border=\"1\" class=\"dataframe\">\n",
       "  <thead>\n",
       "    <tr style=\"text-align: right;\">\n",
       "      <th></th>\n",
       "      <th>mean</th>\n",
       "      <th>count</th>\n",
       "      <th>difference</th>\n",
       "      <th>risk_ratio</th>\n",
       "    </tr>\n",
       "    <tr>\n",
       "      <th>gender</th>\n",
       "      <th></th>\n",
       "      <th></th>\n",
       "      <th></th>\n",
       "      <th></th>\n",
       "    </tr>\n",
       "  </thead>\n",
       "  <tbody>\n",
       "    <tr>\n",
       "      <th>Female</th>\n",
       "      <td>0.222124</td>\n",
       "      <td>2251</td>\n",
       "      <td>0.060677</td>\n",
       "      <td>1.375833</td>\n",
       "    </tr>\n",
       "    <tr>\n",
       "      <th>Male</th>\n",
       "      <td>0.126807</td>\n",
       "      <td>3943</td>\n",
       "      <td>-0.034640</td>\n",
       "      <td>0.785443</td>\n",
       "    </tr>\n",
       "  </tbody>\n",
       "</table>\n",
       "</div>"
      ]
     },
     "metadata": {},
     "output_type": "display_data"
    },
    {
     "name": "stdout",
     "output_type": "stream",
     "text": [
      "\n"
     ]
    },
    {
     "data": {
      "text/plain": [
       "                   mean  count  difference  risk_ratio\n",
       "international                                         \n",
       "False          0.159007   4352   -0.002439    0.984892\n",
       "True           0.167210   1842    0.005763    1.035696"
      ],
      "text/html": [
       "<div>\n",
       "<style scoped>\n",
       "    .dataframe tbody tr th:only-of-type {\n",
       "        vertical-align: middle;\n",
       "    }\n",
       "\n",
       "    .dataframe tbody tr th {\n",
       "        vertical-align: top;\n",
       "    }\n",
       "\n",
       "    .dataframe thead th {\n",
       "        text-align: right;\n",
       "    }\n",
       "</style>\n",
       "<table border=\"1\" class=\"dataframe\">\n",
       "  <thead>\n",
       "    <tr style=\"text-align: right;\">\n",
       "      <th></th>\n",
       "      <th>mean</th>\n",
       "      <th>count</th>\n",
       "      <th>difference</th>\n",
       "      <th>risk_ratio</th>\n",
       "    </tr>\n",
       "    <tr>\n",
       "      <th>international</th>\n",
       "      <th></th>\n",
       "      <th></th>\n",
       "      <th></th>\n",
       "      <th></th>\n",
       "    </tr>\n",
       "  </thead>\n",
       "  <tbody>\n",
       "    <tr>\n",
       "      <th>False</th>\n",
       "      <td>0.159007</td>\n",
       "      <td>4352</td>\n",
       "      <td>-0.002439</td>\n",
       "      <td>0.984892</td>\n",
       "    </tr>\n",
       "    <tr>\n",
       "      <th>True</th>\n",
       "      <td>0.167210</td>\n",
       "      <td>1842</td>\n",
       "      <td>0.005763</td>\n",
       "      <td>1.035696</td>\n",
       "    </tr>\n",
       "  </tbody>\n",
       "</table>\n",
       "</div>"
      ]
     },
     "metadata": {},
     "output_type": "display_data"
    },
    {
     "name": "stdout",
     "output_type": "stream",
     "text": [
      "\n"
     ]
    },
    {
     "data": {
      "text/plain": [
       "                mean  count  difference  risk_ratio\n",
       "major                                              \n",
       "Business    0.158868   1838   -0.002578    0.984030\n",
       "Humanities  0.164450   2481    0.003003    1.018602\n",
       "STEM        0.160000   1875   -0.001447    0.991040"
      ],
      "text/html": [
       "<div>\n",
       "<style scoped>\n",
       "    .dataframe tbody tr th:only-of-type {\n",
       "        vertical-align: middle;\n",
       "    }\n",
       "\n",
       "    .dataframe tbody tr th {\n",
       "        vertical-align: top;\n",
       "    }\n",
       "\n",
       "    .dataframe thead th {\n",
       "        text-align: right;\n",
       "    }\n",
       "</style>\n",
       "<table border=\"1\" class=\"dataframe\">\n",
       "  <thead>\n",
       "    <tr style=\"text-align: right;\">\n",
       "      <th></th>\n",
       "      <th>mean</th>\n",
       "      <th>count</th>\n",
       "      <th>difference</th>\n",
       "      <th>risk_ratio</th>\n",
       "    </tr>\n",
       "    <tr>\n",
       "      <th>major</th>\n",
       "      <th></th>\n",
       "      <th></th>\n",
       "      <th></th>\n",
       "      <th></th>\n",
       "    </tr>\n",
       "  </thead>\n",
       "  <tbody>\n",
       "    <tr>\n",
       "      <th>Business</th>\n",
       "      <td>0.158868</td>\n",
       "      <td>1838</td>\n",
       "      <td>-0.002578</td>\n",
       "      <td>0.984030</td>\n",
       "    </tr>\n",
       "    <tr>\n",
       "      <th>Humanities</th>\n",
       "      <td>0.164450</td>\n",
       "      <td>2481</td>\n",
       "      <td>0.003003</td>\n",
       "      <td>1.018602</td>\n",
       "    </tr>\n",
       "    <tr>\n",
       "      <th>STEM</th>\n",
       "      <td>0.160000</td>\n",
       "      <td>1875</td>\n",
       "      <td>-0.001447</td>\n",
       "      <td>0.991040</td>\n",
       "    </tr>\n",
       "  </tbody>\n",
       "</table>\n",
       "</div>"
      ]
     },
     "metadata": {},
     "output_type": "display_data"
    },
    {
     "name": "stdout",
     "output_type": "stream",
     "text": [
      "\n"
     ]
    },
    {
     "data": {
      "text/plain": [
       "              mean  count  difference  risk_ratio\n",
       "race                                             \n",
       "Asian     0.184830   1147    0.023383    1.144837\n",
       "Black     0.098253    916   -0.063193    0.608581\n",
       "Hispanic  0.117450    596   -0.043997    0.727483\n",
       "Other     0.210970    237    0.049524    1.306751\n",
       "Unknown   0.167210   1842    0.005763    1.035696\n",
       "White     0.185440   1456    0.023993    1.148613"
      ],
      "text/html": [
       "<div>\n",
       "<style scoped>\n",
       "    .dataframe tbody tr th:only-of-type {\n",
       "        vertical-align: middle;\n",
       "    }\n",
       "\n",
       "    .dataframe tbody tr th {\n",
       "        vertical-align: top;\n",
       "    }\n",
       "\n",
       "    .dataframe thead th {\n",
       "        text-align: right;\n",
       "    }\n",
       "</style>\n",
       "<table border=\"1\" class=\"dataframe\">\n",
       "  <thead>\n",
       "    <tr style=\"text-align: right;\">\n",
       "      <th></th>\n",
       "      <th>mean</th>\n",
       "      <th>count</th>\n",
       "      <th>difference</th>\n",
       "      <th>risk_ratio</th>\n",
       "    </tr>\n",
       "    <tr>\n",
       "      <th>race</th>\n",
       "      <th></th>\n",
       "      <th></th>\n",
       "      <th></th>\n",
       "      <th></th>\n",
       "    </tr>\n",
       "  </thead>\n",
       "  <tbody>\n",
       "    <tr>\n",
       "      <th>Asian</th>\n",
       "      <td>0.184830</td>\n",
       "      <td>1147</td>\n",
       "      <td>0.023383</td>\n",
       "      <td>1.144837</td>\n",
       "    </tr>\n",
       "    <tr>\n",
       "      <th>Black</th>\n",
       "      <td>0.098253</td>\n",
       "      <td>916</td>\n",
       "      <td>-0.063193</td>\n",
       "      <td>0.608581</td>\n",
       "    </tr>\n",
       "    <tr>\n",
       "      <th>Hispanic</th>\n",
       "      <td>0.117450</td>\n",
       "      <td>596</td>\n",
       "      <td>-0.043997</td>\n",
       "      <td>0.727483</td>\n",
       "    </tr>\n",
       "    <tr>\n",
       "      <th>Other</th>\n",
       "      <td>0.210970</td>\n",
       "      <td>237</td>\n",
       "      <td>0.049524</td>\n",
       "      <td>1.306751</td>\n",
       "    </tr>\n",
       "    <tr>\n",
       "      <th>Unknown</th>\n",
       "      <td>0.167210</td>\n",
       "      <td>1842</td>\n",
       "      <td>0.005763</td>\n",
       "      <td>1.035696</td>\n",
       "    </tr>\n",
       "    <tr>\n",
       "      <th>White</th>\n",
       "      <td>0.185440</td>\n",
       "      <td>1456</td>\n",
       "      <td>0.023993</td>\n",
       "      <td>1.148613</td>\n",
       "    </tr>\n",
       "  </tbody>\n",
       "</table>\n",
       "</div>"
      ]
     },
     "metadata": {},
     "output_type": "display_data"
    },
    {
     "name": "stdout",
     "output_type": "stream",
     "text": [
      "\n"
     ]
    },
    {
     "data": {
      "text/plain": [
       "                           mean  count  difference  risk_ratio\n",
       "work_industry                                                 \n",
       "CPG                    0.184211    114    0.022764    1.141000\n",
       "Consulting             0.158740   1619   -0.002707    0.983235\n",
       "Energy                 0.093750     32   -0.067697    0.580688\n",
       "Financial Services     0.210643    451    0.049196    1.304723\n",
       "Health Care            0.143713    334   -0.017734    0.890156\n",
       "Investment Banking     0.155172    580   -0.006274    0.961138\n",
       "Investment Management  0.222892    166    0.061445    1.380590\n",
       "Media/Entertainment    0.152542     59   -0.008904    0.944847\n",
       "Nonprofit/Gov          0.150538    651   -0.010909    0.932430\n",
       "Other                  0.149644    421   -0.011803    0.926893\n",
       "PE/VC                  0.148842    907   -0.012604    0.921929\n",
       "Real Estate            0.171171    111    0.009725    1.060234\n",
       "Retail                 0.151515     33   -0.009931    0.938485\n",
       "Technology             0.167598    716    0.006151    1.038101"
      ],
      "text/html": [
       "<div>\n",
       "<style scoped>\n",
       "    .dataframe tbody tr th:only-of-type {\n",
       "        vertical-align: middle;\n",
       "    }\n",
       "\n",
       "    .dataframe tbody tr th {\n",
       "        vertical-align: top;\n",
       "    }\n",
       "\n",
       "    .dataframe thead th {\n",
       "        text-align: right;\n",
       "    }\n",
       "</style>\n",
       "<table border=\"1\" class=\"dataframe\">\n",
       "  <thead>\n",
       "    <tr style=\"text-align: right;\">\n",
       "      <th></th>\n",
       "      <th>mean</th>\n",
       "      <th>count</th>\n",
       "      <th>difference</th>\n",
       "      <th>risk_ratio</th>\n",
       "    </tr>\n",
       "    <tr>\n",
       "      <th>work_industry</th>\n",
       "      <th></th>\n",
       "      <th></th>\n",
       "      <th></th>\n",
       "      <th></th>\n",
       "    </tr>\n",
       "  </thead>\n",
       "  <tbody>\n",
       "    <tr>\n",
       "      <th>CPG</th>\n",
       "      <td>0.184211</td>\n",
       "      <td>114</td>\n",
       "      <td>0.022764</td>\n",
       "      <td>1.141000</td>\n",
       "    </tr>\n",
       "    <tr>\n",
       "      <th>Consulting</th>\n",
       "      <td>0.158740</td>\n",
       "      <td>1619</td>\n",
       "      <td>-0.002707</td>\n",
       "      <td>0.983235</td>\n",
       "    </tr>\n",
       "    <tr>\n",
       "      <th>Energy</th>\n",
       "      <td>0.093750</td>\n",
       "      <td>32</td>\n",
       "      <td>-0.067697</td>\n",
       "      <td>0.580688</td>\n",
       "    </tr>\n",
       "    <tr>\n",
       "      <th>Financial Services</th>\n",
       "      <td>0.210643</td>\n",
       "      <td>451</td>\n",
       "      <td>0.049196</td>\n",
       "      <td>1.304723</td>\n",
       "    </tr>\n",
       "    <tr>\n",
       "      <th>Health Care</th>\n",
       "      <td>0.143713</td>\n",
       "      <td>334</td>\n",
       "      <td>-0.017734</td>\n",
       "      <td>0.890156</td>\n",
       "    </tr>\n",
       "    <tr>\n",
       "      <th>Investment Banking</th>\n",
       "      <td>0.155172</td>\n",
       "      <td>580</td>\n",
       "      <td>-0.006274</td>\n",
       "      <td>0.961138</td>\n",
       "    </tr>\n",
       "    <tr>\n",
       "      <th>Investment Management</th>\n",
       "      <td>0.222892</td>\n",
       "      <td>166</td>\n",
       "      <td>0.061445</td>\n",
       "      <td>1.380590</td>\n",
       "    </tr>\n",
       "    <tr>\n",
       "      <th>Media/Entertainment</th>\n",
       "      <td>0.152542</td>\n",
       "      <td>59</td>\n",
       "      <td>-0.008904</td>\n",
       "      <td>0.944847</td>\n",
       "    </tr>\n",
       "    <tr>\n",
       "      <th>Nonprofit/Gov</th>\n",
       "      <td>0.150538</td>\n",
       "      <td>651</td>\n",
       "      <td>-0.010909</td>\n",
       "      <td>0.932430</td>\n",
       "    </tr>\n",
       "    <tr>\n",
       "      <th>Other</th>\n",
       "      <td>0.149644</td>\n",
       "      <td>421</td>\n",
       "      <td>-0.011803</td>\n",
       "      <td>0.926893</td>\n",
       "    </tr>\n",
       "    <tr>\n",
       "      <th>PE/VC</th>\n",
       "      <td>0.148842</td>\n",
       "      <td>907</td>\n",
       "      <td>-0.012604</td>\n",
       "      <td>0.921929</td>\n",
       "    </tr>\n",
       "    <tr>\n",
       "      <th>Real Estate</th>\n",
       "      <td>0.171171</td>\n",
       "      <td>111</td>\n",
       "      <td>0.009725</td>\n",
       "      <td>1.060234</td>\n",
       "    </tr>\n",
       "    <tr>\n",
       "      <th>Retail</th>\n",
       "      <td>0.151515</td>\n",
       "      <td>33</td>\n",
       "      <td>-0.009931</td>\n",
       "      <td>0.938485</td>\n",
       "    </tr>\n",
       "    <tr>\n",
       "      <th>Technology</th>\n",
       "      <td>0.167598</td>\n",
       "      <td>716</td>\n",
       "      <td>0.006151</td>\n",
       "      <td>1.038101</td>\n",
       "    </tr>\n",
       "  </tbody>\n",
       "</table>\n",
       "</div>"
      ]
     },
     "metadata": {},
     "output_type": "display_data"
    },
    {
     "name": "stdout",
     "output_type": "stream",
     "text": [
      "\n"
     ]
    }
   ],
   "execution_count": 66
  },
  {
   "metadata": {
    "ExecuteTime": {
     "end_time": "2025-05-11T19:47:01.487317Z",
     "start_time": "2025-05-11T19:47:01.467930Z"
    }
   },
   "cell_type": "code",
   "source": "df[categorical].apply(lambda x: mutual_info_score(x, df['admission'])).sort_values()",
   "id": "199bcd9ccba115c8",
   "outputs": [
    {
     "data": {
      "text/plain": [
       "major            0.000023\n",
       "international    0.000052\n",
       "work_industry    0.001364\n",
       "race             0.004419\n",
       "gender           0.007527\n",
       "dtype: float64"
      ]
     },
     "execution_count": 67,
     "metadata": {},
     "output_type": "execute_result"
    }
   ],
   "execution_count": 67
  },
  {
   "metadata": {
    "ExecuteTime": {
     "end_time": "2025-05-11T19:47:01.564272Z",
     "start_time": "2025-05-11T19:47:01.558956Z"
    }
   },
   "cell_type": "code",
   "source": "df[numerical].corrwith(df.admission).sort_values()",
   "id": "891988065bf92454",
   "outputs": [
    {
     "data": {
      "text/plain": [
       "work_exp    0.006821\n",
       "gpa         0.289618\n",
       "gmat        0.353645\n",
       "dtype: float64"
      ]
     },
     "execution_count": 68,
     "metadata": {},
     "output_type": "execute_result"
    }
   ],
   "execution_count": 68
  }
 ],
 "metadata": {
  "kernelspec": {
   "display_name": "venv",
   "language": "python",
   "name": "python3"
  },
  "language_info": {
   "codemirror_mode": {
    "name": "ipython",
    "version": 3
   },
   "file_extension": ".py",
   "mimetype": "text/x-python",
   "name": "python",
   "nbconvert_exporter": "python",
   "pygments_lexer": "ipython3",
   "version": "3.11.2"
  }
 },
 "nbformat": 4,
 "nbformat_minor": 5
}
